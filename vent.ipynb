{
 "cells": [
  {
   "cell_type": "markdown",
   "metadata": {},
   "source": [
    "# Vent Validation\n",
    "\n",
    "ADI instrumentation pressure is mmHg\n",
    "Honeywell MPRLS (aka breath) is hPA\n"
   ]
  },
  {
   "cell_type": "code",
   "execution_count": null,
   "metadata": {},
   "outputs": [],
   "source": [
    "%matplotlib widget\n",
    "%load_ext autoreload\n",
    "%autoreload 2\n",
    "\n",
    "import os\n",
    "import numpy as np\n",
    "import pandas as pd\n",
    "import sys\n",
    "from matplotlib.backends.backend_pdf import PdfPages\n",
    "import matplotlib.pyplot as plt\n",
    "\n",
    "def save_text(txt, width, height):\n",
    "    fig = plt.figure()\n",
    "    fig.set_size_inches(width, height, forward = False)\n",
    "    # fig.clf()\n",
    "    fig.text(0.5,0.5,txt, transform=fig.transFigure, size=24, ha=\"center\")\n",
    "    save_fig(fig)\n",
    "            \n",
    "def save_fig(fig, title=\"\"):\n",
    "    if report:\n",
    "        fig.suptitle(title, fontsize=16)\n",
    "        report.savefig(fig)\n",
    "    \n",
    "    \n",
    "def _plot(ndarray, components, offset, off, axs, legend, y_column, style='-'):\n",
    "    ndkeys = ndarray.dtype.names\n",
    "    comps = components if components else [ k for k in ndkeys if k != y_column]\n",
    "    for c in comps:\n",
    "        offset += off\n",
    "        x = ndarray[y_column]\n",
    "        y = ndarray[c] + offset\n",
    "        axs.plot(x, y, style)\n",
    "    axs.set_ylabel(f\"{c}\")\n",
    "    return offset\n",
    "\n",
    "    \n",
    "def simple_plot(axs, streams, components=None, off=0, y_column='elapsed_s', title='', leg_contents=[], style='-'):\n",
    "\n",
    "    if type(streams) != type([]):\n",
    "        streams =[streams]\n",
    "    \n",
    "    offset = 0\n",
    "    legend = []    \n",
    "    for idx, stream in enumerate(streams):\n",
    "        offset = _plot(stream, components, offset, off, axs, legend, y_column, style=style)\n",
    "        if idx < len(leg_contents):\n",
    "            legend.append(leg_contents[idx])\n",
    "        \n",
    "    axs.legend(legend, frameon=False, loc='lower right')\n",
    "    axs.spines['top'].set_visible(False)\n",
    "    axs.spines['right'].set_visible(False)\n",
    "    axs.set_xlabel(f\"{y_column}\")\n",
    "    axs.set_title(title)\n",
    "    \n",
    "    \n",
    "        \n",
    "\n"
   ]
  },
  {
   "cell_type": "code",
   "execution_count": null,
   "metadata": {},
   "outputs": [],
   "source": [
    "\n",
    "# 40psi\n",
    "#recording = '../vent/02jun23pc/'\n",
    "#offset = -0.2\n",
    "\"\"\"\n",
    "80, 0.02,   # ramp up                                                                                                                                                                                                                                                                         \n",
    "100, 0.02,   # hold top                                                                                                                                                                                                                                                                       \n",
    "75,  0.96,     # ramp down                                                                                                                                                                                                                                                                    \n",
    "0,  2.0,   # hold bottom   \n",
    "\"\"\"\n",
    "\n",
    "\n",
    "# 40psi\n",
    "#recording = '../vent/02jun23vc/'\n",
    "#offset = 2.0\n",
    "\"\"\"\n",
    "80, 0.1,   # ramp up                                                                                                                                                                                                                                                                          \n",
    "90, 0.9,   # hold top                                                                                                                                                                                                                                                                         \n",
    "0,  0,     # ramp down                                                                                                                                                                                                                                                                        \n",
    "0,  2.0,   # hold bottom       \n",
    "\"\"\"\n",
    "\n",
    "# 40psi\n",
    "recording = '../vent/03jun00peep/'\n",
    "offset = 2.0\n",
    "\"\"\"\n",
    "82, 0.1,   # ramp up                                                                                                                                                                                                                                                                          \n",
    "90, 0.9,   # hold top                                                                                                                                                                                                                                                                         \n",
    "82,  0,     # ramp down                                                                                                                                                                                                                                                                       \n",
    "82,  2.0,   # hold bottom  \n",
    "\"\"\"\n",
    "\n",
    "\n",
    "\n",
    "# open a pdf report\n",
    "report = PdfPages(recording + 'report.pdf')"
   ]
  },
  {
   "cell_type": "markdown",
   "metadata": {},
   "source": [
    "## AD data\n",
    "\n",
    "Read in data exported from labchart"
   ]
  },
  {
   "cell_type": "code",
   "execution_count": null,
   "metadata": {},
   "outputs": [],
   "source": [
    "# read lab chart exported data\n",
    "ad_df = pd.read_csv(recording+'labchart.txt', delimiter='\\t', names=[\"ts\", \"flow\", \"pressure\", \"tidal\", \"minute\"])\n",
    "ad_df[\"flowmin\"] = ad_df[\"flow\"] * 60.0\n",
    "ad_df[\"flowagg\"] = ad_df[\"flowmin\"]\n",
    "ad_np = ad_df.to_records(index=False)\n",
    "\n",
    "fig, axs = plt.subplots(ncols=1, nrows=4, constrained_layout=True)\n",
    "fig.set_size_inches(15, 9, forward = False)\n",
    "simple_plot(axs[0], [ad_np], components=[\"flow\"], y_column=\"ts\", leg_contents=[\"Flow (LPS)\"], style=\"r-\")\n",
    "simple_plot(axs[1], [ad_np], components=[\"pressure\"], y_column=\"ts\", leg_contents=[\"Pressure (mmHg)\"], style=\"b-\")\n",
    "simple_plot(axs[2], [ad_np], components=[\"tidal\"], y_column=\"ts\", leg_contents=[\"Tidal Volume (L)\"], style=\"g-\")\n",
    "simple_plot(axs[3], [ad_np], components=[\"minute\"], y_column=\"ts\", leg_contents=[\"Minute Ventilation (L)\"], style=\"m-\")\n",
    "save_fig(fig, title=\"Labchart Report\")"
   ]
  },
  {
   "cell_type": "code",
   "execution_count": null,
   "metadata": {},
   "outputs": [],
   "source": [
    "# read InVent exported data \n",
    "ci_df = pd.read_csv(recording+'sensors.out', delimiter=' ', names=[\"epoch\",\"flowmin\",\"in_p1\",\"in_p2\",\"in_flowmin\",\"ex_p1\",\"ex_p2\",\"ex_flowmin\"])\n",
    "start_time = ci_df[\"epoch\"].iloc[0]\n",
    "\n",
    "# composite flow\n",
    "#inflow = ci_df[\"flowmin\"]\n",
    "#exflow = ci_df[\"ex_flowmin\"]\n",
    "#flow = inflow\n",
    "#for i,f in enumerate(flow):\n",
    "#    if f < exflow[i]:\n",
    "#        flow[i] = -exflow[i]\n",
    "\n",
    "# inflow exflow and flow (composite) in LPS\n",
    "ci_df[\"inflow\"] = ci_df[\"in_flowmin\"] / 60.0\n",
    "ci_df[\"exflow\"] = -ci_df[\"ex_flowmin\"] / 60.0\n",
    "ci_df[\"flow\"] = ci_df[\"flowmin\"] / 60\n",
    "\n",
    "# convert pressure from PA to mmHg\n",
    "ci_df[\"pressure\"] = ci_df[\"ex_p1\"] / 133 \n",
    "\n",
    "ci_df[\"ts\"] = ci_df[\"epoch\"] - start_time + offset\n",
    "\n",
    "ci_np = ci_df.to_records(index=False)\n",
    "\n",
    "fig, axs = plt.subplots(ncols=1, nrows=2, constrained_layout=True)\n",
    "fig.set_size_inches(15, 9, forward = False)\n",
    "simple_plot(axs[0], [ci_np], components=[\"flow\"], y_column=\"ts\", leg_contents=[\"flow\"], style=\"r-\")\n",
    "simple_plot(axs[1], [ci_np], components=[\"pressure\"], y_column=\"ts\", leg_contents=[\"pressure\"], style=\"b-\")\n",
    "#save_fig(fig, title=\"InVent Inspiratory\")"
   ]
  },
  {
   "cell_type": "code",
   "execution_count": null,
   "metadata": {},
   "outputs": [],
   "source": [
    "in_df = ci_df.copy()\n",
    "in_df[\"flow\"] = in_df[\"inflow\"]\n",
    "\n",
    "ex_df = ci_df.copy()\n",
    "ex_df[\"flow\"] = in_df[\"exflow\"]\n",
    "\n",
    "fig, axs = plt.subplots(ncols=1, nrows=1, constrained_layout=True)\n",
    "fig.set_size_inches(15, 10, forward = False)\n",
    "simple_plot(axs, [ad_np, ci_np,], components=[\"flow\"], y_column=\"ts\", leg_contents=[\"AD Flow (LPS)\",\"Our Flow (LPS)\", \"Our In Flow\", \"Our Ex Flow\"])\n",
    "save_fig(fig, title=\"Flow Validation\")"
   ]
  },
  {
   "cell_type": "code",
   "execution_count": null,
   "metadata": {},
   "outputs": [],
   "source": [
    "fig, axs = plt.subplots(ncols=1, nrows=1, constrained_layout=True)\n",
    "fig.set_size_inches(15, 10, forward = False)\n",
    "simple_plot(axs, [ad_np, ci_np], components=[\"pressure\"], y_column=\"ts\", leg_contents=[\"AD Pressure (mmHg)\", \"Our Pressure (mmHg)\"])\n",
    "save_fig(fig, title=\"Pressure Validation\")\n"
   ]
  },
  {
   "cell_type": "markdown",
   "metadata": {},
   "source": [
    "## Calculate Sample Rates\n",
    "\n",
    "Vent should be at 75Hz\n",
    "AD should be at 1kHz"
   ]
  },
  {
   "cell_type": "code",
   "execution_count": null,
   "metadata": {},
   "outputs": [],
   "source": [
    "# calculate sample rates\n",
    "ad_time = np.max(ad_df['ts'])-np.min(ad_df['ts'])\n",
    "ci_time = np.max(ci_df['ts'])-np.min(ci_df['ts'])\n",
    "print(f\"AD samples {ad_np.shape[0]/ad_time}\")\n",
    "print(f\"CI samples {ci_np.shape[0]/ci_time}\")"
   ]
  },
  {
   "cell_type": "markdown",
   "metadata": {},
   "source": [
    "## Pressure Differential\n",
    "\n",
    "display the venturi differences for inspiration and expiration"
   ]
  },
  {
   "cell_type": "code",
   "execution_count": null,
   "metadata": {},
   "outputs": [],
   "source": [
    "p1_df = ci_df.copy()\n",
    "p1_df[\"pressure\"] = p1_df[\"in_p1\"]\n",
    "p2_df = ci_df.copy()\n",
    "p2_df[\"pressure\"] = p2_df[\"in_p2\"]\n",
    "\n",
    "fig, axs = plt.subplots(ncols=1, nrows=1, constrained_layout=True)\n",
    "fig.set_size_inches(15, 10, forward = False)\n",
    "simple_plot(axs, [p1_df.to_records(index=False), p2_df.to_records(index=False)], components=[\"pressure\"], y_column=\"ts\", leg_contents=[\"p1\",\"p2\"])\n",
    "#save_fig(fig, title=\"Venturi Pressures\")"
   ]
  },
  {
   "cell_type": "markdown",
   "metadata": {},
   "source": [
    "## Smoothing of pressure signals\n",
    "\n",
    "can also be accomplished at the sensor"
   ]
  },
  {
   "cell_type": "code",
   "execution_count": null,
   "metadata": {},
   "outputs": [],
   "source": [
    "def moving_avg_rms(data, window_size): # Calculate RMS\n",
    "    # Moving avg RMS: https://stackoverflow.com/questions/8245687/numpy-root-mean-squared-rms-smoothing-of-a-signal\n",
    "    data2 = np.power(data,2)\n",
    "    window = np.ones(window_size)/float(window_size)\n",
    "    return(np.sqrt(np.convolve(data2, window, 'valid')))\n",
    "\n",
    "window = 10\n",
    "f_df = ci_df.copy()\n",
    "f_df[\"ex_flowmin\"] = np.append(moving_avg_rms(ci_df[\"ex_flowmin\"], window), np.zeros(window-1))\n",
    "\n",
    "# inverse if on experiatory\n",
    "#f_df[\"flowmin\"] = -f_df[\"flowmin\"]\n",
    "\n",
    "fig, axs = plt.subplots(ncols=1, nrows=1, constrained_layout=True)\n",
    "fig.set_size_inches(15, 10, forward = False)\n",
    "simple_plot(axs, [ci_np,f_df.to_records(index=False)], components=[\"ex_flowmin\"], y_column=\"ts\", leg_contents=[\"f1\",\"f2\"])"
   ]
  },
  {
   "cell_type": "code",
   "execution_count": null,
   "metadata": {},
   "outputs": [],
   "source": [
    "report.close()\n",
    "report = None"
   ]
  },
  {
   "cell_type": "code",
   "execution_count": null,
   "metadata": {},
   "outputs": [],
   "source": []
  },
  {
   "cell_type": "code",
   "execution_count": null,
   "metadata": {},
   "outputs": [],
   "source": []
  },
  {
   "cell_type": "code",
   "execution_count": null,
   "metadata": {},
   "outputs": [],
   "source": []
  }
 ],
 "metadata": {
  "kernelspec": {
   "display_name": "Python 3",
   "language": "python",
   "name": "python3"
  },
  "language_info": {
   "codemirror_mode": {
    "name": "ipython",
    "version": 3
   },
   "file_extension": ".py",
   "mimetype": "text/x-python",
   "name": "python",
   "nbconvert_exporter": "python",
   "pygments_lexer": "ipython3",
   "version": "3.7.6"
  }
 },
 "nbformat": 4,
 "nbformat_minor": 4
}
